{
 "cells": [
  {
   "cell_type": "markdown",
   "id": "84ea9e5f",
   "metadata": {},
   "source": [
    "# Lorenz Attractor\n",
    "A short notebook for solving the [Lorenz System](https://en.wikipedia.org/wiki/Lorenz_system) of differential equations:\n",
    "$$\n",
    "\\displaystyle\n",
    "\\frac{\\mathrm{d}x}{\\mathrm{d}t} = \\sigma(y - x)\\\\\n",
    "\\frac{\\mathrm{d}y}{\\mathrm{d}t} = x(\\rho - z) - y\\\\\n",
    "\\frac{\\mathrm{d}z}{\\mathrm{d}t} = xy - \\beta z\n",
    "$$\n",
    "and making plots of a stream-line."
   ]
  },
  {
   "cell_type": "code",
   "execution_count": null,
   "id": "39bab016",
   "metadata": {},
   "outputs": [],
   "source": [
    "from scipy.integrate import solve_ivp\n",
    "import matplotlib.pyplot as plt\n",
    "%matplotlib notebook\n",
    "from mpl_toolkits.mplot3d import Axes3D\n",
    "\n",
    "SIGMA = 10.0\n",
    "RHO = 28.0\n",
    "BETA = 8 / 3\n",
    "\n",
    "t_init = 0\n",
    "t_fin = 25\n",
    "t_span = (t_init, t_fin)\n",
    "\n",
    "initial = [1.0, 1.0, 1.0]"
   ]
  },
  {
   "cell_type": "code",
   "execution_count": null,
   "id": "c77b463f",
   "metadata": {},
   "outputs": [],
   "source": [
    "def attractor(t, r, σ, ρ, β):\n",
    "    x, y, z = r\n",
    "    x_new = σ * (y - x)\n",
    "    y_new = ρ * x - y - x * z\n",
    "    z_new = x * y - β * z\n",
    "    return[x_new, y_new, z_new]"
   ]
  },
  {
   "cell_type": "code",
   "execution_count": null,
   "id": "28e5ee6a",
   "metadata": {},
   "outputs": [],
   "source": [
    "solution = solve_ivp(attractor,\n",
    "                     t_span,\n",
    "                     initial,\n",
    "                     args=(SIGMA, RHO, BETA),\n",
    "                     max_step = 0.01)\n",
    "\n",
    "x, y, z = solution.y"
   ]
  },
  {
   "cell_type": "markdown",
   "id": "909adf3d",
   "metadata": {},
   "source": [
    "Plotting in 2 Dimensions, projected onto the $x$-$y$ plane:"
   ]
  },
  {
   "cell_type": "code",
   "execution_count": null,
   "id": "6e3f2959",
   "metadata": {},
   "outputs": [],
   "source": [
    "fig2D, ax2D = plt.subplots()\n",
    "ax2D.plot(x, y)"
   ]
  },
  {
   "cell_type": "markdown",
   "id": "ce5b387e",
   "metadata": {},
   "source": [
    "Plotting in 3 Dimensions:"
   ]
  },
  {
   "cell_type": "code",
   "execution_count": null,
   "id": "b6c4f205",
   "metadata": {},
   "outputs": [],
   "source": [
    "fig3D = plt.figure()\n",
    "ax3D = fig3D.add_subplot(111, projection='3d')\n",
    "ax3D.plot(x, y, z)"
   ]
  },
  {
   "cell_type": "code",
   "execution_count": null,
   "id": "4a655630",
   "metadata": {},
   "outputs": [],
   "source": []
  }
 ],
 "metadata": {
  "kernelspec": {
   "display_name": "Python 3",
   "language": "python",
   "name": "python3"
  },
  "language_info": {
   "codemirror_mode": {
    "name": "ipython",
    "version": 3
   },
   "file_extension": ".py",
   "mimetype": "text/x-python",
   "name": "python",
   "nbconvert_exporter": "python",
   "pygments_lexer": "ipython3",
   "version": "3.8.5"
  }
 },
 "nbformat": 4,
 "nbformat_minor": 5
}
